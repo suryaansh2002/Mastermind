{
 "cells": [
  {
   "cell_type": "code",
   "execution_count": 3,
   "metadata": {},
   "outputs": [],
   "source": [
    "#Mastermind\n",
    "#Objective - A 4-digit number is randomly chosen by the computer. You have 15 attempts to guess it.\n",
    "#Rule 1 - You have 15 attempts to guess the right number. \n",
    "#Rule 2 - After every guess, you will see 2 values against red and white.\n",
    "#Rule 3 - Red indicates that the a number in the guess is also present in the randomly chosen number, in the same digit.\n",
    "#For example, say the number to be guessed is 1234 and my 1st guess is 7830. Since 3 is present in guess, that too in the right place, code will return 1 red.\n",
    "#Rule 4 - White indicates correct number but wrong place. Consider the above example.\n",
    "#Say my 2nd guess for 1234 was 2931. 3 is in the correct place but 2 and 1 are not. Thus, it will show white = 2 and red = 1\n",
    "import random\n",
    "def mastermind():\n",
    "    print('Objective - A 4-digit number is randomly chosen by the computer. You have 15 attempts to guess it.')\n",
    "    print('Rule 1 - You have 15 attempts to guess the right number.')\n",
    "    print('Rule 2 - After every guess, you will see 2 values against red and white.')\n",
    "    print('Rule 3 - Red indicates that the a number in the guess is also present in the randomly chosen number, in the same digit.')\n",
    "    print('For example, say the number to be guessed is 1234 and my 1st guess is 7830. Since 3 is present in guess, that too in the right place, code will return 1 red.')\n",
    "    print('Rule 4 - White indicates correct number but wrong place. Consider the above example.')\n",
    "    print('Say my 2nd guess for 1234 was 2931. 3 is in the correct place but 2 and 1 are not. Thus, it will show white = 2 and red = 1')\n",
    "    num = str(random.randint(1000,9999))\n",
    "    n = None\n",
    "    turn1 = 0\n",
    "    while (n!=num):\n",
    "        n = input(\"Player 1 enter your guess: \")\n",
    "        if n == num:\n",
    "            print(f\"Player 1 took {turn1} turns!\\n\")\n",
    "            break\n",
    "        white = 0\n",
    "        red = 0\n",
    "        for i in range(4):\n",
    "            if n[i]==num[i]:\n",
    "                red += 1\n",
    "            \n",
    "            elif n[i] in num:\n",
    "                white+=1\n",
    "        print(f'white = {white}')\n",
    "        print(f\"red = {red}\")\n",
    "        turn1 += 1\n",
    "        \n",
    "    Num = str(random.randint(1000,9999))\n",
    "    N = None\n",
    "    turn2 = 0\n",
    "    while (N!=Num):\n",
    "        N = input(\"Player 2 enter your guess: \")\n",
    "        if N == Num:\n",
    "            print(f\"Player 2 took {turn2} turns!\\n\")\n",
    "            break\n",
    "        white = 0\n",
    "        red = 0\n",
    "        for i in range(4):\n",
    "            if N[i]==Num[i]:\n",
    "                red += 1\n",
    "            \n",
    "            elif N[i] in Num:\n",
    "                white+=1\n",
    "        print(f'white = {white}')\n",
    "        print(f\"red = {red}\")\n",
    "        turn2 += 1\n",
    "    if turn1 > turn2:\n",
    "        print(\"Player 2 has won!\")\n",
    "    elif turn1 < turn2:\n",
    "        print(\"Player 1 has won!\")\n",
    "    else:\n",
    "        print(\"It is a tie!\")\n",
    "        "
   ]
  },
  {
   "cell_type": "code",
   "execution_count": null,
   "metadata": {},
   "outputs": [
    {
     "name": "stdout",
     "output_type": "stream",
     "text": [
      "Objective - A 4-digit number is randomly chosen by the computer. You have 15 attempts to guess it.\n",
      "Rule 1 - You have 15 attempts to guess the right number.\n",
      "Rule 2 - After every guess, you will see 2 values against red and white.\n",
      "Rule 3 - Red indicates that the a number in the guess is also present in the randomly chosen number, in the same digit.\n",
      "For example, say the number to be guessed is 1234 and my 1st guess is 7830. Since 3 is present in guess, that too in the right place, code will return 1 red.\n",
      "Rule 4 - White indicates correct number but wrong place. Consider the above example.\n",
      "Say my 2nd guess for 1234 was 2931. 3 is in the correct place but 2 and 1 are not. Thus, it will show white = 2 and red = 1\n"
     ]
    }
   ],
   "source": [
    "mastermind()"
   ]
  },
  {
   "cell_type": "code",
   "execution_count": null,
   "metadata": {},
   "outputs": [],
   "source": []
  }
 ],
 "metadata": {
  "kernelspec": {
   "display_name": "Python 3",
   "language": "python",
   "name": "python3"
  },
  "language_info": {
   "codemirror_mode": {
    "name": "ipython",
    "version": 3
   },
   "file_extension": ".py",
   "mimetype": "text/x-python",
   "name": "python",
   "nbconvert_exporter": "python",
   "pygments_lexer": "ipython3",
   "version": "3.7.6"
  }
 },
 "nbformat": 4,
 "nbformat_minor": 4
}
